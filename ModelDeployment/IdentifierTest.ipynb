{
 "cells": [
  {
   "cell_type": "markdown",
   "metadata": {},
   "source": [
    "# Test Identifier"
   ]
  },
  {
   "cell_type": "code",
   "execution_count": 1,
   "metadata": {},
   "outputs": [],
   "source": [
    "import tensorflow as tf\n",
    "from tensorflow.data import AUTOTUNE\n",
    "import numpy as np\n",
    "import sys\n",
    "import os\n",
    "import string\n",
    "import csv\n",
    "from imutils import paths"
   ]
  },
  {
   "cell_type": "code",
   "execution_count": 2,
   "metadata": {},
   "outputs": [],
   "source": [
    "modelPath = './Models/Classifier/1'\n",
    "if os.path.isdir(modelPath) is False: \n",
    "    print('Model not found!!!')"
   ]
  },
  {
   "cell_type": "code",
   "execution_count": 3,
   "metadata": {},
   "outputs": [],
   "source": [
    "CSVPath = './pokedex.csv'\n",
    "uniqueDexNames = []\n",
    "uniqueDexIDs = []\n",
    "\n",
    "with open(CSVPath) as file: \n",
    "    csv_reader = csv.reader(file, delimiter=',')\n",
    "    \n",
    "    firstLine = True\n",
    "    for line in csv_reader:\n",
    "        if firstLine is not True: \n",
    "            uniqueDexIDs.append(line[1])\n",
    "            uniqueDexNames.append(line[2])\n",
    "            # pokemonGenerations.append(line[5])\n",
    "        else: \n",
    "            #figure out what columns in the dataset contain the pokemon name and pokedexID -- TODO \n",
    "            firstLine = False\n",
    "\n",
    "#sort names into alphabetical order \n",
    "uniqueDexNames.sort()"
   ]
  },
  {
   "cell_type": "code",
   "execution_count": 4,
   "metadata": {},
   "outputs": [
    {
     "name": "stdout",
     "output_type": "stream",
     "text": [
      "Model: \"sequential\"\n",
      "_________________________________________________________________\n",
      " Layer (type)                Output Shape              Param #   \n",
      "=================================================================\n",
      " conv2d (Conv2D)             (None, 158, 158, 128)     4736      \n",
      "                                                                 \n",
      " batch_normalization (BatchN  (None, 158, 158, 128)    512       \n",
      " ormalization)                                                   \n",
      "                                                                 \n",
      " activation (Activation)     (None, 158, 158, 128)     0         \n",
      "                                                                 \n",
      " max_pooling2d (MaxPooling2D  (None, 79, 79, 128)      0         \n",
      " )                                                               \n",
      "                                                                 \n",
      " conv2d_1 (Conv2D)           (None, 77, 77, 128)       147584    \n",
      "                                                                 \n",
      " batch_normalization_1 (Batc  (None, 77, 77, 128)      512       \n",
      " hNormalization)                                                 \n",
      "                                                                 \n",
      " activation_1 (Activation)   (None, 77, 77, 128)       0         \n",
      "                                                                 \n",
      " max_pooling2d_1 (MaxPooling  (None, 38, 38, 128)      0         \n",
      " 2D)                                                             \n",
      "                                                                 \n",
      " conv2d_2 (Conv2D)           (None, 36, 36, 128)       147584    \n",
      "                                                                 \n",
      " batch_normalization_2 (Batc  (None, 36, 36, 128)      512       \n",
      " hNormalization)                                                 \n",
      "                                                                 \n",
      " activation_2 (Activation)   (None, 36, 36, 128)       0         \n",
      "                                                                 \n",
      " max_pooling2d_2 (MaxPooling  (None, 18, 18, 128)      0         \n",
      " 2D)                                                             \n",
      "                                                                 \n",
      " flatten (Flatten)           (None, 41472)             0         \n",
      "                                                                 \n",
      " dense (Dense)               (None, 512)               21234176  \n",
      "                                                                 \n",
      " dense_1 (Dense)             (None, 859)               440667    \n",
      "                                                                 \n",
      "=================================================================\n",
      "Total params: 21,976,283\n",
      "Trainable params: 21,975,515\n",
      "Non-trainable params: 768\n",
      "_________________________________________________________________\n"
     ]
    }
   ],
   "source": [
    "model = tf.keras.models.load_model(modelPath)\n",
    "model.summary()"
   ]
  },
  {
   "cell_type": "code",
   "execution_count": 5,
   "metadata": {},
   "outputs": [],
   "source": [
    "seqAugment = tf.keras.models.Sequential([\n",
    "    tf.keras.layers.Rescaling(scale=1.0/255),  \n",
    "])"
   ]
  },
  {
   "cell_type": "code",
   "execution_count": 13,
   "metadata": {},
   "outputs": [],
   "source": [
    "def loadImages(imagePath):\n",
    "    #encode the image\n",
    "    # tf.print(imagePath)\n",
    "    image = tf.io.read_file(imagePath)\n",
    "    image = tf.image.decode_png(image, channels=3)\n",
    "    image = tf.image.resize_with_pad(image, 80, 80)\n",
    "    image = tf.cast(image, tf.float32)\n",
    "    \n",
    "    #encode the label for the image\n",
    "    labelParts = tf.strings.split(imagePath, os.sep)\n",
    "    return (image)"
   ]
  },
  {
   "cell_type": "code",
   "execution_count": 16,
   "metadata": {},
   "outputs": [
    {
     "name": "stdout",
     "output_type": "stream",
     "text": [
      "['./TestImages/abra.png', './TestImages/ani--ampharos-4.png', './TestImages/ani--articuno-25.png', './TestImages/bagon.png']\n",
      "527 100.0\n",
      "323 100.0\n",
      "395 100.0\n",
      "186 100.0\n"
     ]
    }
   ],
   "source": [
    "testPath = list(paths.list_images('./TestImages'))\n",
    "\n",
    "print(testPath)\n",
    "\n",
    "# norm = tf.keras.layers.Normalization(1./255)\n",
    "\n",
    "testDS = tf.data.Dataset.from_tensor_slices(testPath)\n",
    "testDS = (testDS\n",
    "    .map(loadImages)\n",
    "    .batch(1)\n",
    ")\n",
    "# testDS = \n",
    "\n",
    "for image in testDS.take(4):\n",
    "    newPred = model.predict(image)\n",
    "    print(np.argmax(newPred), 100 * np.max(newPred))"
   ]
  },
  {
   "cell_type": "code",
   "execution_count": null,
   "metadata": {},
   "outputs": [],
   "source": [
    "test_dir = './TestImages/'\n",
    "imagePaths = os.listdir(test_dir)\n",
    "for imgFile in imagePaths:\n",
    "    fullImagePath = os.path.join(test_dir, imgFile)\n",
    "    print(fullImagePath)\n",
    "    img = tf.keras.utils.load_img(\n",
    "        fullImagePath, \n",
    "        color_mode='rgba', \n",
    "        target_size=(160, 160)\n",
    "    )\n",
    "\n",
    "    #run prediction \n",
    "    img_array = tf.keras.utils.img_to_array(img)\n",
    "    img_array /= 255.\n",
    "    img_array = tf.expand_dims(img_array, 0) #create a batch\n",
    "\n",
    "    predictions = model.predict(img_array)\n",
    "\n",
    "    # for pred in predictions:\n",
    "    #     if pred \n",
    "    print(\n",
    "        \"This image most likely belongs to {} with a {:.2f} percent confidence.\"\n",
    "        # .format(uniqueDexNames[np.argmax(predictions)], 100 * np.max(predictions))\n",
    "        .format(np.argmax(predictions), 100 *  np.max(predictions))\n",
    "    )"
   ]
  }
 ],
 "metadata": {
  "interpreter": {
   "hash": "916dbcbb3f70747c44a77c7bcd40155683ae19c65e1c03b4aa3499c5328201f1"
  },
  "kernelspec": {
   "display_name": "Python 3.8.10 64-bit",
   "language": "python",
   "name": "python3"
  },
  "language_info": {
   "codemirror_mode": {
    "name": "ipython",
    "version": 3
   },
   "file_extension": ".py",
   "mimetype": "text/x-python",
   "name": "python",
   "nbconvert_exporter": "python",
   "pygments_lexer": "ipython3",
   "version": "3.8.10"
  },
  "orig_nbformat": 4
 },
 "nbformat": 4,
 "nbformat_minor": 2
}
