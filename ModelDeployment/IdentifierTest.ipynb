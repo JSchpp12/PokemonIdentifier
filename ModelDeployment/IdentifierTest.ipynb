{
 "cells": [
  {
   "cell_type": "markdown",
   "metadata": {},
   "source": [
    "# Test Identifier"
   ]
  },
  {
   "cell_type": "code",
   "execution_count": 1,
   "metadata": {},
   "outputs": [],
   "source": [
    "import tensorflow as tf\n",
    "from tensorflow.data import AUTOTUNE\n",
    "import numpy as np\n",
    "import os\n",
    "import re\n",
    "import string\n",
    "import csv\n",
    "import matplotlib.pyplot as plt\n",
    "from imutils import paths\n",
    "from PIL import Image"
   ]
  },
  {
   "cell_type": "code",
   "execution_count": 2,
   "metadata": {},
   "outputs": [],
   "source": [
    "modelPath = './Models/Classifier/5'\n",
    "if os.path.isdir(modelPath) is False: \n",
    "    print('Model not found!!!')"
   ]
  },
  {
   "cell_type": "code",
   "execution_count": 3,
   "metadata": {},
   "outputs": [],
   "source": [
    "CSVPath = './pokemon.csv'\n",
    "uniqueDexNames = []\n",
    "uniqueDexIDs = []\n",
    "\n",
    "with open(CSVPath, encoding=\"utf8\") as file: \n",
    "    csv_reader = csv.reader(file, delimiter=',')\n",
    "\n",
    "    firstLine = True\n",
    "    for line in csv_reader:\n",
    "        if firstLine is not True: \n",
    "            tempID = int(line[32])\n",
    "            if tempID not in uniqueDexIDs:\n",
    "                #remove trailing . keep from creating directories with trailing .\n",
    "                cleanName = re.sub(\"[.]\", '', line[30])\n",
    "                uniqueDexIDs.append(tempID)\n",
    "                uniqueDexNames.append(cleanName)\n",
    "        else: \n",
    "            #figure out what columns in the dataset contain the pokemon name and pokedexID -- TODO \n",
    "            firstLine = False\n",
    "\n",
    "#sort names into alphabetical order \n",
    "uniqueDexNames.sort()"
   ]
  },
  {
   "cell_type": "code",
   "execution_count": 4,
   "metadata": {},
   "outputs": [
    {
     "name": "stdout",
     "output_type": "stream",
     "text": [
      "Model: \"sequential\"\n",
      "_________________________________________________________________\n",
      " Layer (type)                Output Shape              Param #   \n",
      "=================================================================\n",
      " conv2d (Conv2D)             (None, 78, 78, 128)       3584      \n",
      "                                                                 \n",
      " max_pooling2d (MaxPooling2D  (None, 39, 39, 128)      0         \n",
      " )                                                               \n",
      "                                                                 \n",
      " conv2d_1 (Conv2D)           (None, 37, 37, 128)       147584    \n",
      "                                                                 \n",
      " max_pooling2d_1 (MaxPooling  (None, 18, 18, 128)      0         \n",
      " 2D)                                                             \n",
      "                                                                 \n",
      " conv2d_2 (Conv2D)           (None, 16, 16, 128)       147584    \n",
      "                                                                 \n",
      " max_pooling2d_2 (MaxPooling  (None, 8, 8, 128)        0         \n",
      " 2D)                                                             \n",
      "                                                                 \n",
      " conv2d_3 (Conv2D)           (None, 6, 6, 128)         147584    \n",
      "                                                                 \n",
      " max_pooling2d_3 (MaxPooling  (None, 3, 3, 128)        0         \n",
      " 2D)                                                             \n",
      "                                                                 \n",
      " flatten (Flatten)           (None, 1152)              0         \n",
      "                                                                 \n",
      " dense (Dense)               (None, 512)               590336    \n",
      "                                                                 \n",
      " dense_1 (Dense)             (None, 889)               456057    \n",
      "                                                                 \n",
      "=================================================================\n",
      "Total params: 1,492,729\n",
      "Trainable params: 1,492,729\n",
      "Non-trainable params: 0\n",
      "_________________________________________________________________\n"
     ]
    }
   ],
   "source": [
    "model = tf.keras.models.load_model(modelPath)\n",
    "model.summary()"
   ]
  },
  {
   "cell_type": "code",
   "execution_count": 5,
   "metadata": {},
   "outputs": [],
   "source": [
    "seqAugment = tf.keras.models.Sequential([\n",
    "    tf.keras.layers.Rescaling(scale=1.0/255),  \n",
    "])"
   ]
  },
  {
   "cell_type": "code",
   "execution_count": 6,
   "metadata": {},
   "outputs": [],
   "source": [
    "def loadImages(imagePath):\n",
    "    #encode the image\n",
    "    # tf.print(imagePath)\n",
    "    image = tf.io.read_file(imagePath)\n",
    "    image = tf.image.decode_png(image, channels=3)\n",
    "    image = tf.image.resize_with_pad(image, 80, 80)\n",
    "    image = tf.cast(image, tf.float32)\n",
    "    return (image)"
   ]
  },
  {
   "cell_type": "code",
   "execution_count": null,
   "metadata": {},
   "outputs": [
    {
     "name": "stdout",
     "output_type": "stream",
     "text": [
      "./testImages/ani--absol-3.png\n"
     ]
    }
   ],
   "source": [
    "correctCounter = 0\n",
    "drawCounter = 0 \n",
    "test_dir = './testImages/'\n",
    "\n",
    "imagePaths = os.listdir(test_dir)\n",
    "totalNumTests = len(imagePaths)\n",
    "for imgFile in imagePaths:\n",
    "    fullImagePath = os.path.join(test_dir, imgFile)\n",
    "    print(fullImagePath)\n",
    "    img = tf.keras.utils.load_img(\n",
    "        fullImagePath, \n",
    "        color_mode='rgb', \n",
    "        target_size=(80, 80)\n",
    "    )\n",
    "\n",
    "    #run prediction \n",
    "    img_array = tf.keras.utils.img_to_array(img)\n",
    "    img_array /= 255.\n",
    "    img_array = tf.expand_dims(img_array, 0) #create a batch\n",
    "\n",
    "    predictions = model.predict(img_array)\n",
    "    predicted_value = np.argmax(predictions)\n",
    "    if predicted_value < len(uniqueDexNames):\n",
    "        predicted_name = uniqueDexNames[predicted_value]\n",
    "\n",
    "        if predicted_name.lower() in imgFile.lower():\n",
    "            #has predicted corrected \n",
    "            correctCounter += 1\n",
    "        else:\n",
    "            mistakeCounter += 1\n",
    "        # img = Image.open(fullImagePath)\n",
    "        # plt.imshow(img)\n",
    "        # plt.title(f\"{predicted_name}:{round(100 *  np.max(predictions), 2)}%\")\n",
    "        # plt.show()\n",
    "\n",
    "    # if drawCounter == 8:\n",
    "    #     plt.show()\n",
    "    drawCounter += 1\n",
    "print(f\"Model has selected {correctCounter} out of {totalNumTests}\")"
   ]
  },
  {
   "cell_type": "code",
   "execution_count": null,
   "metadata": {},
   "outputs": [],
   "source": []
  }
 ],
 "metadata": {
  "interpreter": {
   "hash": "916dbcbb3f70747c44a77c7bcd40155683ae19c65e1c03b4aa3499c5328201f1"
  },
  "kernelspec": {
   "display_name": "Python 3 (ipykernel)",
   "language": "python",
   "name": "python3"
  },
  "language_info": {
   "codemirror_mode": {
    "name": "ipython",
    "version": 3
   },
   "file_extension": ".py",
   "mimetype": "text/x-python",
   "name": "python",
   "nbconvert_exporter": "python",
   "pygments_lexer": "ipython3",
   "version": "3.9.7"
  }
 },
 "nbformat": 4,
 "nbformat_minor": 4
}
