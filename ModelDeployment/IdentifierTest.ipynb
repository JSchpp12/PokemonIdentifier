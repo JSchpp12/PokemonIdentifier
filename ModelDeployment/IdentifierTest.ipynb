{
 "cells": [
  {
   "cell_type": "markdown",
   "metadata": {},
   "source": [
    "# Test Identifier"
   ]
  },
  {
   "cell_type": "code",
   "execution_count": 3,
   "metadata": {},
   "outputs": [
    {
     "ename": "ImportError",
     "evalue": "libGL.so.1: cannot open shared object file: No such file or directory",
     "output_type": "error",
     "traceback": [
      "\u001b[0;31m---------------------------------------------------------------------------\u001b[0m",
      "\u001b[0;31mImportError\u001b[0m                               Traceback (most recent call last)",
      "\u001b[1;32m/workspaces/Tensorflow/Class/AdvancedAI/PokemonIdentifier/ModelDeployment/IdentifierTest.ipynb Cell 2'\u001b[0m in \u001b[0;36m<cell line: 9>\u001b[0;34m()\u001b[0m\n\u001b[1;32m      <a href='vscode-notebook-cell://dev-container%2B643a5c50726f6a656374735c54656e736f72666c6f77/workspaces/Tensorflow/Class/AdvancedAI/PokemonIdentifier/ModelDeployment/IdentifierTest.ipynb#ch0000001vscode-remote?line=6'>7</a>\u001b[0m \u001b[39mimport\u001b[39;00m \u001b[39mcsv\u001b[39;00m\n\u001b[1;32m      <a href='vscode-notebook-cell://dev-container%2B643a5c50726f6a656374735c54656e736f72666c6f77/workspaces/Tensorflow/Class/AdvancedAI/PokemonIdentifier/ModelDeployment/IdentifierTest.ipynb#ch0000001vscode-remote?line=7'>8</a>\u001b[0m \u001b[39mimport\u001b[39;00m \u001b[39mmatplotlib\u001b[39;00m\u001b[39m.\u001b[39;00m\u001b[39mpyplot\u001b[39;00m \u001b[39mas\u001b[39;00m \u001b[39mplt\u001b[39;00m\n\u001b[0;32m----> <a href='vscode-notebook-cell://dev-container%2B643a5c50726f6a656374735c54656e736f72666c6f77/workspaces/Tensorflow/Class/AdvancedAI/PokemonIdentifier/ModelDeployment/IdentifierTest.ipynb#ch0000001vscode-remote?line=8'>9</a>\u001b[0m \u001b[39mfrom\u001b[39;00m \u001b[39mimutils\u001b[39;00m \u001b[39mimport\u001b[39;00m paths\n\u001b[1;32m     <a href='vscode-notebook-cell://dev-container%2B643a5c50726f6a656374735c54656e736f72666c6f77/workspaces/Tensorflow/Class/AdvancedAI/PokemonIdentifier/ModelDeployment/IdentifierTest.ipynb#ch0000001vscode-remote?line=9'>10</a>\u001b[0m \u001b[39mfrom\u001b[39;00m \u001b[39mPIL\u001b[39;00m \u001b[39mimport\u001b[39;00m Image\n",
      "File \u001b[0;32m/usr/local/lib/python3.8/dist-packages/imutils/__init__.py:8\u001b[0m, in \u001b[0;36m<module>\u001b[0;34m\u001b[0m\n\u001b[1;32m      <a href='file:///usr/local/lib/python3.8/dist-packages/imutils/__init__.py?line=4'>5</a>\u001b[0m __version__ \u001b[39m=\u001b[39m \u001b[39m\"\u001b[39m\u001b[39m0.5.4\u001b[39m\u001b[39m\"\u001b[39m\n\u001b[1;32m      <a href='file:///usr/local/lib/python3.8/dist-packages/imutils/__init__.py?line=6'>7</a>\u001b[0m \u001b[39m# import the necessary packages\u001b[39;00m\n\u001b[0;32m----> <a href='file:///usr/local/lib/python3.8/dist-packages/imutils/__init__.py?line=7'>8</a>\u001b[0m \u001b[39mfrom\u001b[39;00m \u001b[39m.\u001b[39;00m\u001b[39mconvenience\u001b[39;00m \u001b[39mimport\u001b[39;00m translate\n\u001b[1;32m      <a href='file:///usr/local/lib/python3.8/dist-packages/imutils/__init__.py?line=8'>9</a>\u001b[0m \u001b[39mfrom\u001b[39;00m \u001b[39m.\u001b[39;00m\u001b[39mconvenience\u001b[39;00m \u001b[39mimport\u001b[39;00m rotate\n\u001b[1;32m     <a href='file:///usr/local/lib/python3.8/dist-packages/imutils/__init__.py?line=9'>10</a>\u001b[0m \u001b[39mfrom\u001b[39;00m \u001b[39m.\u001b[39;00m\u001b[39mconvenience\u001b[39;00m \u001b[39mimport\u001b[39;00m rotate_bound\n",
      "File \u001b[0;32m/usr/local/lib/python3.8/dist-packages/imutils/convenience.py:6\u001b[0m, in \u001b[0;36m<module>\u001b[0;34m\u001b[0m\n\u001b[1;32m      <a href='file:///usr/local/lib/python3.8/dist-packages/imutils/convenience.py?line=0'>1</a>\u001b[0m \u001b[39m# author:    Adrian Rosebrock\u001b[39;00m\n\u001b[1;32m      <a href='file:///usr/local/lib/python3.8/dist-packages/imutils/convenience.py?line=1'>2</a>\u001b[0m \u001b[39m# website:   http://www.pyimagesearch.com\u001b[39;00m\n\u001b[1;32m      <a href='file:///usr/local/lib/python3.8/dist-packages/imutils/convenience.py?line=2'>3</a>\u001b[0m \n\u001b[1;32m      <a href='file:///usr/local/lib/python3.8/dist-packages/imutils/convenience.py?line=3'>4</a>\u001b[0m \u001b[39m# import the necessary packages\u001b[39;00m\n\u001b[1;32m      <a href='file:///usr/local/lib/python3.8/dist-packages/imutils/convenience.py?line=4'>5</a>\u001b[0m \u001b[39mimport\u001b[39;00m \u001b[39mnumpy\u001b[39;00m \u001b[39mas\u001b[39;00m \u001b[39mnp\u001b[39;00m\n\u001b[0;32m----> <a href='file:///usr/local/lib/python3.8/dist-packages/imutils/convenience.py?line=5'>6</a>\u001b[0m \u001b[39mimport\u001b[39;00m \u001b[39mcv2\u001b[39;00m\n\u001b[1;32m      <a href='file:///usr/local/lib/python3.8/dist-packages/imutils/convenience.py?line=6'>7</a>\u001b[0m \u001b[39mimport\u001b[39;00m \u001b[39msys\u001b[39;00m\n\u001b[1;32m      <a href='file:///usr/local/lib/python3.8/dist-packages/imutils/convenience.py?line=8'>9</a>\u001b[0m \u001b[39m# import any special Python 2.7 packages\u001b[39;00m\n",
      "File \u001b[0;32m/usr/local/lib/python3.8/dist-packages/cv2/__init__.py:8\u001b[0m, in \u001b[0;36m<module>\u001b[0;34m\u001b[0m\n\u001b[1;32m      <a href='file:///usr/local/lib/python3.8/dist-packages/cv2/__init__.py?line=4'>5</a>\u001b[0m \u001b[39mimport\u001b[39;00m \u001b[39mimportlib\u001b[39;00m\n\u001b[1;32m      <a href='file:///usr/local/lib/python3.8/dist-packages/cv2/__init__.py?line=5'>6</a>\u001b[0m \u001b[39mimport\u001b[39;00m \u001b[39msys\u001b[39;00m\n\u001b[0;32m----> <a href='file:///usr/local/lib/python3.8/dist-packages/cv2/__init__.py?line=7'>8</a>\u001b[0m \u001b[39mfrom\u001b[39;00m \u001b[39m.\u001b[39;00m\u001b[39mcv2\u001b[39;00m \u001b[39mimport\u001b[39;00m \u001b[39m*\u001b[39m\n\u001b[1;32m      <a href='file:///usr/local/lib/python3.8/dist-packages/cv2/__init__.py?line=8'>9</a>\u001b[0m \u001b[39mfrom\u001b[39;00m \u001b[39m.\u001b[39;00m\u001b[39mcv2\u001b[39;00m \u001b[39mimport\u001b[39;00m _registerMatType\n\u001b[1;32m     <a href='file:///usr/local/lib/python3.8/dist-packages/cv2/__init__.py?line=9'>10</a>\u001b[0m \u001b[39mfrom\u001b[39;00m \u001b[39m.\u001b[39;00m \u001b[39mimport\u001b[39;00m mat_wrapper\n",
      "\u001b[0;31mImportError\u001b[0m: libGL.so.1: cannot open shared object file: No such file or directory"
     ]
    }
   ],
   "source": [
    "import tensorflow as tf\n",
    "from tensorflow.data import AUTOTUNE\n",
    "import numpy as np\n",
    "import os\n",
    "import re\n",
    "import string\n",
    "import csv\n",
    "import matplotlib.pyplot as plt\n",
    "from imutils import paths\n",
    "from PIL import Image"
   ]
  },
  {
   "cell_type": "code",
   "execution_count": null,
   "metadata": {},
   "outputs": [],
   "source": [
    "modelPath = './Models/Classifier/5'\n",
    "if os.path.isdir(modelPath) is False: \n",
    "    print('Model not found!!!')"
   ]
  },
  {
   "cell_type": "code",
   "execution_count": null,
   "metadata": {},
   "outputs": [],
   "source": [
    "CSVPath = './pokemon.csv'\n",
    "uniqueDexNames = []\n",
    "uniqueDexIDs = []\n",
    "\n",
    "with open(CSVPath, encoding=\"utf8\") as file: \n",
    "    csv_reader = csv.reader(file, delimiter=',')\n",
    "\n",
    "    firstLine = True\n",
    "    for line in csv_reader:\n",
    "        if firstLine is not True: \n",
    "            tempID = int(line[32])\n",
    "            if tempID not in uniqueDexIDs:\n",
    "                #remove trailing . keep from creating directories with trailing .\n",
    "                cleanName = re.sub(\"[.]\", '', line[30])\n",
    "                uniqueDexIDs.append(tempID)\n",
    "                uniqueDexNames.append(cleanName)\n",
    "        else: \n",
    "            #figure out what columns in the dataset contain the pokemon name and pokedexID -- TODO \n",
    "            firstLine = False\n",
    "\n",
    "#sort names into alphabetical order \n",
    "uniqueDexNames.sort()"
   ]
  },
  {
   "cell_type": "code",
   "execution_count": null,
   "metadata": {},
   "outputs": [
    {
     "name": "stdout",
     "output_type": "stream",
     "text": [
      "Model: \"sequential\"\n",
      "_________________________________________________________________\n",
      " Layer (type)                Output Shape              Param #   \n",
      "=================================================================\n",
      " conv2d (Conv2D)             (None, 78, 78, 128)       3584      \n",
      "                                                                 \n",
      " max_pooling2d (MaxPooling2D  (None, 39, 39, 128)      0         \n",
      " )                                                               \n",
      "                                                                 \n",
      " conv2d_1 (Conv2D)           (None, 37, 37, 128)       147584    \n",
      "                                                                 \n",
      " max_pooling2d_1 (MaxPooling  (None, 18, 18, 128)      0         \n",
      " 2D)                                                             \n",
      "                                                                 \n",
      " conv2d_2 (Conv2D)           (None, 16, 16, 128)       147584    \n",
      "                                                                 \n",
      " max_pooling2d_2 (MaxPooling  (None, 8, 8, 128)        0         \n",
      " 2D)                                                             \n",
      "                                                                 \n",
      " conv2d_3 (Conv2D)           (None, 6, 6, 128)         147584    \n",
      "                                                                 \n",
      " max_pooling2d_3 (MaxPooling  (None, 3, 3, 128)        0         \n",
      " 2D)                                                             \n",
      "                                                                 \n",
      " flatten (Flatten)           (None, 1152)              0         \n",
      "                                                                 \n",
      " dense (Dense)               (None, 512)               590336    \n",
      "                                                                 \n",
      " dense_1 (Dense)             (None, 889)               456057    \n",
      "                                                                 \n",
      "=================================================================\n",
      "Total params: 1,492,729\n",
      "Trainable params: 1,492,729\n",
      "Non-trainable params: 0\n",
      "_________________________________________________________________\n"
     ]
    }
   ],
   "source": [
    "model = tf.keras.models.load_model(modelPath)\n",
    "model.summary()"
   ]
  },
  {
   "cell_type": "code",
   "execution_count": null,
   "metadata": {},
   "outputs": [],
   "source": [
    "seqAugment = tf.keras.models.Sequential([\n",
    "    tf.keras.layers.Rescaling(scale=1.0/255),  \n",
    "])"
   ]
  },
  {
   "cell_type": "code",
   "execution_count": null,
   "metadata": {},
   "outputs": [],
   "source": [
    "def loadImages(imagePath):\n",
    "    #encode the image\n",
    "    # tf.print(imagePath)\n",
    "    image = tf.io.read_file(imagePath)\n",
    "    image = tf.image.decode_png(image, channels=3)\n",
    "    image = tf.image.resize_with_pad(image, 80, 80)\n",
    "    image = tf.cast(image, tf.float32)\n",
    "    return (image)"
   ]
  },
  {
   "cell_type": "code",
   "execution_count": null,
   "metadata": {},
   "outputs": [
    {
     "name": "stdout",
     "output_type": "stream",
     "text": [
      "./testImages/ani--absol-3.png\n"
     ]
    },
    {
     "ename": "NameError",
     "evalue": "name 'tf' is not defined",
     "output_type": "error",
     "traceback": [
      "\u001b[0;31m---------------------------------------------------------------------------\u001b[0m",
      "\u001b[0;31mNameError\u001b[0m                                 Traceback (most recent call last)",
      "\u001b[1;32m/workspaces/Tensorflow/Class/AdvancedAI/PokemonIdentifier/ModelDeployment/IdentifierTest.ipynb Cell 8'\u001b[0m in \u001b[0;36m<cell line: 7>\u001b[0;34m()\u001b[0m\n\u001b[1;32m      <a href='vscode-notebook-cell://dev-container%2B643a5c50726f6a656374735c54656e736f72666c6f77/workspaces/Tensorflow/Class/AdvancedAI/PokemonIdentifier/ModelDeployment/IdentifierTest.ipynb#ch0000008vscode-remote?line=7'>8</a>\u001b[0m fullImagePath \u001b[39m=\u001b[39m os\u001b[39m.\u001b[39mpath\u001b[39m.\u001b[39mjoin(test_dir, imgFile)\n\u001b[1;32m      <a href='vscode-notebook-cell://dev-container%2B643a5c50726f6a656374735c54656e736f72666c6f77/workspaces/Tensorflow/Class/AdvancedAI/PokemonIdentifier/ModelDeployment/IdentifierTest.ipynb#ch0000008vscode-remote?line=8'>9</a>\u001b[0m \u001b[39mprint\u001b[39m(fullImagePath)\n\u001b[0;32m---> <a href='vscode-notebook-cell://dev-container%2B643a5c50726f6a656374735c54656e736f72666c6f77/workspaces/Tensorflow/Class/AdvancedAI/PokemonIdentifier/ModelDeployment/IdentifierTest.ipynb#ch0000008vscode-remote?line=9'>10</a>\u001b[0m img \u001b[39m=\u001b[39m tf\u001b[39m.\u001b[39mkeras\u001b[39m.\u001b[39mutils\u001b[39m.\u001b[39mload_img(\n\u001b[1;32m     <a href='vscode-notebook-cell://dev-container%2B643a5c50726f6a656374735c54656e736f72666c6f77/workspaces/Tensorflow/Class/AdvancedAI/PokemonIdentifier/ModelDeployment/IdentifierTest.ipynb#ch0000008vscode-remote?line=10'>11</a>\u001b[0m     fullImagePath, \n\u001b[1;32m     <a href='vscode-notebook-cell://dev-container%2B643a5c50726f6a656374735c54656e736f72666c6f77/workspaces/Tensorflow/Class/AdvancedAI/PokemonIdentifier/ModelDeployment/IdentifierTest.ipynb#ch0000008vscode-remote?line=11'>12</a>\u001b[0m     color_mode\u001b[39m=\u001b[39m\u001b[39m'\u001b[39m\u001b[39mrgb\u001b[39m\u001b[39m'\u001b[39m, \n\u001b[1;32m     <a href='vscode-notebook-cell://dev-container%2B643a5c50726f6a656374735c54656e736f72666c6f77/workspaces/Tensorflow/Class/AdvancedAI/PokemonIdentifier/ModelDeployment/IdentifierTest.ipynb#ch0000008vscode-remote?line=12'>13</a>\u001b[0m     target_size\u001b[39m=\u001b[39m(\u001b[39m80\u001b[39m, \u001b[39m80\u001b[39m)\n\u001b[1;32m     <a href='vscode-notebook-cell://dev-container%2B643a5c50726f6a656374735c54656e736f72666c6f77/workspaces/Tensorflow/Class/AdvancedAI/PokemonIdentifier/ModelDeployment/IdentifierTest.ipynb#ch0000008vscode-remote?line=13'>14</a>\u001b[0m )\n\u001b[1;32m     <a href='vscode-notebook-cell://dev-container%2B643a5c50726f6a656374735c54656e736f72666c6f77/workspaces/Tensorflow/Class/AdvancedAI/PokemonIdentifier/ModelDeployment/IdentifierTest.ipynb#ch0000008vscode-remote?line=15'>16</a>\u001b[0m \u001b[39m#run prediction \u001b[39;00m\n\u001b[1;32m     <a href='vscode-notebook-cell://dev-container%2B643a5c50726f6a656374735c54656e736f72666c6f77/workspaces/Tensorflow/Class/AdvancedAI/PokemonIdentifier/ModelDeployment/IdentifierTest.ipynb#ch0000008vscode-remote?line=16'>17</a>\u001b[0m img_array \u001b[39m=\u001b[39m tf\u001b[39m.\u001b[39mkeras\u001b[39m.\u001b[39mutils\u001b[39m.\u001b[39mimg_to_array(img)\n",
      "\u001b[0;31mNameError\u001b[0m: name 'tf' is not defined"
     ]
    }
   ],
   "source": [
    "correctCounter = 0\n",
    "mistakeCounter = 0\n",
    "drawCounter = 0 \n",
    "test_dir = './testImages/'\n",
    "\n",
    "imagePaths = os.listdir(test_dir)\n",
    "for imgFile in imagePaths:\n",
    "    fullImagePath = os.path.join(test_dir, imgFile)\n",
    "    print(fullImagePath)\n",
    "    img = tf.keras.utils.load_img(\n",
    "        fullImagePath, \n",
    "        color_mode='rgb', \n",
    "        target_size=(80, 80)\n",
    "    )\n",
    "\n",
    "    #run prediction \n",
    "    img_array = tf.keras.utils.img_to_array(img)\n",
    "    img_array /= 255.\n",
    "    img_array = tf.expand_dims(img_array, 0) #create a batch\n",
    "\n",
    "    predictions = model.predict(img_array)\n",
    "    predicted_value = np.argmax(predictions)\n",
    "    print(predicted_value)\n",
    "    print(len(uniqueDexNames))\n",
    "    if predicted_value < len(uniqueDexNames):\n",
    "        predicted_name = uniqueDexNames[predicted_value]\n",
    "\n",
    "        if predicted_name.lower() in imgFile.lower():\n",
    "            #has predicted corrected \n",
    "            correctCounter += 1\n",
    "        else:\n",
    "            mistakeCounter += 1\n",
    "        img = Image.open(fullImagePath)\n",
    "        plt.imshow(img)\n",
    "        plt.title(f\"{predicted_name}:{round(100 *  np.max(predictions), 2)}%\")\n",
    "        plt.show()\n",
    "\n",
    "    # if drawCounter == 8:\n",
    "    #     plt.show()\n",
    "    drawCounter += 1\n"
   ]
  },
  {
   "cell_type": "code",
   "execution_count": null,
   "metadata": {},
   "outputs": [],
   "source": []
  }
 ],
 "metadata": {
  "interpreter": {
   "hash": "916dbcbb3f70747c44a77c7bcd40155683ae19c65e1c03b4aa3499c5328201f1"
  },
  "kernelspec": {
   "display_name": "Python 3 (ipykernel)",
   "language": "python",
   "name": "python3"
  },
  "language_info": {
   "codemirror_mode": {
    "name": "ipython",
    "version": 3
   },
   "file_extension": ".py",
   "mimetype": "text/x-python",
   "name": "python",
   "nbconvert_exporter": "python",
   "pygments_lexer": "ipython3",
   "version": "3.8.10"
  }
 },
 "nbformat": 4,
 "nbformat_minor": 4
}
