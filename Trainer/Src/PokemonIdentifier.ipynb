{
 "cells": [
  {
   "cell_type": "markdown",
   "id": "447a8f8e-2c0f-4045-94bb-f0cc78190bc4",
   "metadata": {
    "tags": []
   },
   "source": [
    "# Pokemon Identifier"
   ]
  },
  {
   "cell_type": "markdown",
   "id": "128da341-ac17-492b-a6a8-7c752a21c4bc",
   "metadata": {},
   "source": [
    "This is going to train a pokemon identifier that will be trained on several data sources"
   ]
  },
  {
   "cell_type": "code",
   "execution_count": 1,
   "id": "dce58d0f-7ef5-4ea5-8349-5cae8410c036",
   "metadata": {},
   "outputs": [],
   "source": [
    "import os\n",
    "import sys\n",
    "import string\n",
    "import datetime\n",
    "import shutil\n",
    "import argparse\n",
    "import random\n",
    "import numpy as np\n",
    "import tensorflow as tf\n",
    "import tensorflow_datasets as tfds\n",
    "import tensorflow.keras.preprocessing.image as preprocessing \n",
    "from tensorflow.data import AUTOTUNE\n",
    "from tensorflow.keras.utils import to_categorical\n",
    "from tensorflow.keras.preprocessing.image import ImageDataGenerator\n",
    "from tensorflow.keras.optimizers import RMSprop\n",
    "import tensorflow_addons as tfa\n",
    "from imutils import paths #used to get the paths of all images in a dir"
   ]
  },
  {
   "cell_type": "code",
   "execution_count": 2,
   "id": "b98a49e0-1bdc-48cb-83f6-1662d8e6d6b3",
   "metadata": {},
   "outputs": [],
   "source": [
    "import matplotlib.pyplot as plt"
   ]
  },
  {
   "cell_type": "markdown",
   "id": "930eccc9-5041-4594-8fe9-cd87b7c896a9",
   "metadata": {},
   "source": [
    "## Global Values"
   ]
  },
  {
   "cell_type": "code",
   "execution_count": 3,
   "id": "b9a5ced3-51dc-4c58-b69e-3a958da42d9d",
   "metadata": {},
   "outputs": [],
   "source": [
    "clearLogs = False\n",
    "strNow = datetime.datetime.now().strftime(\"%Y%m%d-%H%M%S\")\n",
    "ENV = \"windowsLocal\"\n",
    "\n",
    "#path to dataset directory\n",
    "ENV_LOG_DIR = f\"../Logs/{ENV}/\"\n",
    "SESSION_LOG_DIR = f\"../Logs/windowsLocal/{strNow}/\"\n",
    "CORE_DATASET = '../Datasets/Main/Images/'\n",
    "TRAIN_DIR = '../Datasets/Main/Images/Train/'\n",
    "VALIDATION_DIR = '../Datasets/Main/Images/Validation/'\n",
    "# SAVE_DIR = os.path.join(SESSION_LOG_DIR, \"Saves\")\n",
    "# CHECKPOINT_DIR = os.path.join(SAVE_DIR, \"Checkpoints\")\n",
    "# FINAL_SAVE_DIR = os.path.join(SAVE_DIR, \"Final\")\n",
    "if os.path.isdir('../Logs') is False:\n",
    "    os.mkdir('../Logs')\n",
    "if os.path.isdir(ENV_LOG_DIR) is False:\n",
    "    os.mkdir(ENV_LOG_DIR)\n",
    "if os.path.isdir(SESSION_LOG_DIR) is False: \n",
    "    os.mkdir(SESSION_LOG_DIR)\n",
    "\n",
    "numCategories = len(os.listdir(TRAIN_DIR))\n",
    "\n",
    "#amount of time to allot for training\n",
    "trainTimeLimit = 0\n",
    "\n",
    "#percentage of core dataset to use for training and testing\n",
    "TRAIN_SPLIT = .9 \n",
    "\n",
    "if clearLogs is True and os.path.isdir('../Logs') :\n",
    "    shutil.rmtree('../Logs')\n",
    "    \n",
    "if os.path.isdir(CORE_DATASET) is False:\n",
    "    print('DATASET NOT FOUND') \n",
    "    \n",
    "if os.path.isdir(TRAIN_DIR) is False:\n",
    "    print('TRAIN SET NOT FOUND')\n",
    "                 \n",
    "if os.path.isdir(VALIDATION_DIR) is False:\n",
    "    print('VALIDATION SET NOT FOUND')\n",
    "\n",
    "BATCH_SIZE = 32\n",
    "\n",
    "NUM_EPOCHS = 10\n",
    "\n",
    "IMAGE_HEIGHT = 64\n",
    "IMAGE_WIDTH = 64\n",
    "#normalization value that will be used for color channels\n",
    "IMAGE_NORM_COLOR = 255 \n",
    "\n",
    "#should extras -- such as tensorboard be loaded for this session \n",
    "LOAD_UTILS = True"
   ]
  },
  {
   "cell_type": "code",
   "execution_count": 4,
   "id": "deecaa09",
   "metadata": {},
   "outputs": [],
   "source": [
    "#tensorflow training params\n",
    "NUM_NODES_IN_CONV = [128]\n",
    "NUM_LAYERS_CONV = [3]"
   ]
  },
  {
   "cell_type": "markdown",
   "id": "d687e646-ed68-456f-9e87-336e52c2a3c4",
   "metadata": {},
   "source": [
    "### Take command line arguments if any"
   ]
  },
  {
   "cell_type": "code",
   "execution_count": 5,
   "id": "9c1039fe-dee5-424e-b5d2-f09f73ef2807",
   "metadata": {},
   "outputs": [
    {
     "name": "stdout",
     "output_type": "stream",
     "text": [
      "['/usr/local/lib/python3.8/dist-packages/ipykernel_launcher.py', '--ip=127.0.0.1', '--stdin=9026', '--control=9024', '--hb=9023', '--Session.signature_scheme=\"hmac-sha256\"', '--Session.key=b\"0a13ad97-69e3-43ff-91ee-0ae97cad2613\"', '--shell=9025', '--transport=\"tcp\"', '--iopub=9027', '--f=/tmp/tmp-258VgyYSN65ejMg.json']\n"
     ]
    }
   ],
   "source": [
    "if (len(sys.argv) > 0):\n",
    "    print(sys.argv)\n",
    "    listArgs = sys.argv\n",
    "    for arg in listArgs: \n",
    "        splitArg = arg.split('=')\n",
    "        if splitArg[0] == \"timeLimit\": \n",
    "            timeSplit = splitArg[1].split('.')\n",
    "            if (len(timeSplit) == 3):\n",
    "                hours = int(timeSplit[0])\n",
    "                minutes = int(timeSplit[1])\n",
    "                seconds = int(timeSplit[2])\n",
    "                trainTimeLimit = (60*60*hours)+(60*minutes)+seconds\n",
    "                print(f'time limit set to- {trainTimeLimit} seconds') \n",
    "        elif splitArg[0] == \"epochs\":\n",
    "            numEpochs = int(splitArg[1])\n",
    "        elif splitArg[0] == \"loadextras\":\n",
    "            LOAD_UTILS = bool(splitArg[1])\n",
    "            print('Wont load extras')\n",
    "        "
   ]
  },
  {
   "cell_type": "code",
   "execution_count": 6,
   "id": "9b398f49-9b77-4c3d-aa8a-80b9e748cf9d",
   "metadata": {},
   "outputs": [],
   "source": [
    "# if (LOAD_UTILS):\n",
    "#     %load_ext tensorboard\n",
    "#     %tensorboard --logdir '../Logs/ubuntuLocal/fit/' --bind_all\n",
    "#     %matplotlib inline"
   ]
  },
  {
   "cell_type": "code",
   "execution_count": 7,
   "id": "1aa54694-b48c-4fe3-98eb-db431f9505c4",
   "metadata": {},
   "outputs": [],
   "source": [
    "# parser = argparse.ArgumentParser()\n",
    "# parser.add_argument('timeLimit', type=int, "
   ]
  },
  {
   "cell_type": "markdown",
   "id": "ac77d523-75f2-497a-b854-a61fb10d6a18",
   "metadata": {},
   "source": [
    "## Train"
   ]
  },
  {
   "cell_type": "markdown",
   "id": "cfdde576-c031-44aa-8480-73ec05df04f3",
   "metadata": {},
   "source": [
    "### Create Datasets with TF.Data"
   ]
  },
  {
   "cell_type": "code",
   "execution_count": 8,
   "id": "a72f0b37-61c7-4416-8a6f-fe916b7e518d",
   "metadata": {},
   "outputs": [],
   "source": [
    "# iamgePaths = list(paths.list_images(CORE_DATASET))\n",
    "# random.seed(32)\n",
    "# random.shuffle(imagePaths)\n",
    "\n",
    "# #generate training and testing split \n",
    "# i = int(len(imagePaths) * \n",
    "\n",
    "# datasets = [\n",
    "#     (\"training\", trainPaths, TRAIN_DIR),\n",
    "#     (\"validation\", validationPaths, VALIDATION_DIR)\n",
    "# ]"
   ]
  },
  {
   "cell_type": "code",
   "execution_count": 9,
   "id": "51a93324-1bfc-4149-a997-e6c9d7e8c612",
   "metadata": {},
   "outputs": [],
   "source": [
    "# def loadDataFromDir(folder): \n",
    "#     def parseImage(imagePath):\n",
    "#         #get folder structure \n",
    "#         directoryStruct = tf.strings.split(imagePath, os.path.sep)\n",
    "#         classNames = np.array(trainDirectory)\n",
    "#         label = directoryStruct[-2] == classNames \n",
    "        \n",
    "#         img = tf.io.read_file(imagePath)"
   ]
  },
  {
   "cell_type": "code",
   "execution_count": 10,
   "id": "ac412212-8161-4e02-8ae6-7953d8e7f01d",
   "metadata": {},
   "outputs": [],
   "source": [
    "# def buildDataset(datasetPath: string): \n",
    "#     coreDir = None\n",
    "    \n",
    "#     if train is True: \n",
    "#         coreDir = TRAIN_DIR\n",
    "#     else:\n",
    "#         coreDir = TEST_DIR\n",
    "    \n",
    "#     for curDur in os.listdir(datasetPath):\n",
    "#         for file in os.listdir(os.path.join(datasetPath, curDur)):\n",
    "            "
   ]
  },
  {
   "cell_type": "code",
   "execution_count": 12,
   "id": "c0750f99-ed74-4540-84d3-5d0a97b3f166",
   "metadata": {},
   "outputs": [],
   "source": [
    "def loadImages(imagePath):\n",
    "    #encode the image\n",
    "    # tf.print(imagePath)\n",
    "    image = tf.io.read_file(imagePath)\n",
    "    image = tf.image.decode_png(image, channels=4)\n",
    "    image = tf.image.resize_with_pad(image, IMAGE_HEIGHT, IMAGE_WIDTH)\n",
    "    image = tf.cast(tf.float32)\n",
    "    \n",
    "    #encode the label for the image\n",
    "    labelParts = tf.strings.split(imagePath, os.sep)\n",
    "    oneHot = labelParts[-2] == classNames \n",
    "    return (image, tf.argmax(oneHot))"
   ]
  },
  {
   "cell_type": "code",
   "execution_count": 14,
   "id": "d7a4359e-1a51-4402-8200-f74059700096",
   "metadata": {},
   "outputs": [],
   "source": [
    "seqAugment = tf.keras.models.Sequential([\n",
    "    tf.keras.layers.Rescaling(scale=1.0/255),\n",
    "    tf.keras.layers.RandomZoom(\n",
    "        height_factor=(-0.05, 0.0), #zoom in by random ammount from +20% to +30%\n",
    "        width_factor=(-0.05, 0.0), \n",
    "        fill_mode='constant', \n",
    "        fill_value=0)\n",
    "])"
   ]
  },
  {
   "cell_type": "code",
   "execution_count": 15,
   "id": "f60b9ed4-1b80-40da-b76a-4d785b64a33d",
   "metadata": {},
   "outputs": [
    {
     "name": "stdout",
     "output_type": "stream",
     "text": [
      "651949\n",
      "Tensor(\"Equal:0\", shape=(859,), dtype=bool)\n",
      "Tensor(\"Equal:0\", shape=(859,), dtype=bool)\n"
     ]
    }
   ],
   "source": [
    "trainPaths = list(paths.list_images(TRAIN_DIR))\n",
    "valPaths = list(paths.list_images(VALIDATION_DIR))\n",
    "trainLabels = [p.split(os.path.sep)[-2] for p in trainPaths] #gather labels from dirs \n",
    "classNames = np.array(sorted(trainLabels))\n",
    "classNames = np.unique(classNames)\n",
    "\n",
    "print(len(trainPaths))\n",
    "\n",
    "#layer used to normalize colors in datasets \n",
    "normalizationLayer = tf.keras.layers.Rescaling(1./255)\n",
    "\n",
    "#define pipelines \n",
    "#training dataset \n",
    "trainDS = tf.data.Dataset.from_tensor_slices(trainPaths)\n",
    "trainDS = (trainDS\n",
    "           .shuffle(len(trainPaths)) #shuffle all the images \n",
    "           .map(loadImages, num_parallel_calls=AUTOTUNE) #read images from disk \n",
    "           .map(lambda x, y: (seqAugment(x), y), num_parallel_calls=AUTOTUNE)\n",
    "           .batch(BATCH_SIZE) #batch size\n",
    "           .prefetch(AUTOTUNE)\n",
    "          )\n",
    "\n",
    "trainDS = trainDS.map(lambda x, y: (normalizationLayer(x), y))\n",
    "#validation dataset\n",
    "valDS = tf.data.Dataset.from_tensor_slices(valPaths)\n",
    "valDS = (valDS\n",
    "         .map(loadImages, num_parallel_calls=AUTOTUNE)\n",
    "         .batch(BATCH_SIZE)\n",
    "         .prefetch(AUTOTUNE))\n",
    "valDS = valDS.map(lambda x, y: (normalizationLayer(x), y))"
   ]
  },
  {
   "cell_type": "code",
   "execution_count": 16,
   "id": "8fe20c88-a7b8-458a-bc49-0f3f1f976f6a",
   "metadata": {},
   "outputs": [
    {
     "data": {
      "image/png": "[encoded data removed]",
      "text/plain": [
       "<Figure size 432x288 with 9 Axes>"
      ]
     },
     "metadata": {
      "needs_background": "light"
     },
     "output_type": "display_data"
    }
   ],
   "source": [
    "# # print(trainPaths[15061])\n",
    "# if (LOAD_UTILS):\n",
    "#   for images, labels in trainDS.take(1):\n",
    "#     for i in range(9):\n",
    "#       ax = plt.subplot(3, 3, i + 1)\n",
    "#       plt.imshow((images[i].numpy()*255).astype(\"uint8\"))\n",
    "#       plt.title(classNames[labels[i]])\n",
    "#       plt.axis(\"off\")\n",
    "#     plt.show()\n",
    "    "
   ]
  },
  {
   "cell_type": "markdown",
   "id": "cd14fd7e-3aac-4cb5-b7ed-5e4cb122bf45",
   "metadata": {
    "tags": []
   },
   "source": [
    "### Create Datagenerators"
   ]
  },
  {
   "cell_type": "code",
   "execution_count": null,
   "id": "c75098b8-d7b2-466e-8ed1-2cbc86d6ec4b",
   "metadata": {
    "tags": []
   },
   "outputs": [],
   "source": [
    "# train_datagen = ImageDataGenerator(rescale = 1.0/255.0, #this is to normalize colors\n",
    "#                                   rotation_range=10, \n",
    "#                                   width_shift_range=0.1, \n",
    "#                                   height_shift_range=0.1,\n",
    "#                                   shear_range=0.05, \n",
    "#                                   zoom_range=0.2, \n",
    "#                                   horizontal_flip = False, \n",
    "#                                   fill_mode='nearest'\n",
    "#                                   )\n",
    "\n",
    "# train_generator = train_datagen.flow_from_directory(directory=trainDirectory, \n",
    "#                                                     target_size=(150, 150), #resize image resolution\n",
    "#                                                     color_mode='rgba',\n",
    "#                                                     save_format='png',\n",
    "#                                                     batch_size=16, \n",
    "#                                                     class_mode='sparse')"
   ]
  },
  {
   "cell_type": "code",
   "execution_count": null,
   "id": "1ad5090f-2c26-4324-8efc-e08bce90f646",
   "metadata": {},
   "outputs": [],
   "source": [
    "# validation_datagen = ImageDataGenerator(rescale=1.0/255.0) \n",
    "\n",
    "# validation_generator = validation_datagen.flow_from_directory(directory=testDirectory,\n",
    "#                                                               target_size=(150, 150), #resize image resolution\n",
    "#                                                               color_mode='rgba',\n",
    "#                                                               save_format='png',\n",
    "#                                                               batch_size=16, \n",
    "#                                                               class_mode='sparse')"
   ]
  },
  {
   "cell_type": "markdown",
   "id": "4d5bf412-0e80-4d0b-a25f-a6dc816d6385",
   "metadata": {},
   "source": [
    "### Define Model"
   ]
  },
  {
   "cell_type": "code",
   "execution_count": null,
   "id": "8aa604e1-5e18-41be-9bcf-c0eb24a66f6d",
   "metadata": {},
   "outputs": [
    {
     "ename": "SyntaxError",
     "evalue": "invalid syntax (<ipython-input-1-78972bbfe1e8>, line 38)",
     "output_type": "error",
     "traceback": [
      "\u001b[0;36m  Input \u001b[0;32mIn [1]\u001b[0;36m\u001b[0m\n\u001b[0;31m    model.add(tf.keras.layers.Flatten())\u001b[0m\n\u001b[0m    ^\u001b[0m\n\u001b[0;31mSyntaxError\u001b[0m\u001b[0;31m:\u001b[0m invalid syntax\n"
     ]
    }
   ],
   "source": [
    "for numConvLayers in NUM_LAYERS_CONV:\n",
    "    for convNodes in NUM_NODES_IN_CONV:\n",
    "        local_container_dir = os.path.join(SESSION_LOG_DIR, f\"cl{numConvLayers}.cn{convNodes}\")\n",
    "        local_tensorlogs_dir = os.path.join(local_container_dir, 'fit')\n",
    "        local_save_dir = os.path.join(local_container_dir, 'saves')\n",
    "        local_checkpoint_dir = os.path.join(local_save_dir, 'checkpoints/')\n",
    "        local_finalsave_dir = os.path.join(local_save_dir, 'final/')\n",
    "\n",
    "        if os.path.isdir(local_container_dir) is False: \n",
    "            os.mkdir(local_container_dir)\n",
    "        if os.path.isdir(local_save_dir) is False:\n",
    "            os.mkdir(local_save_dir)\n",
    "        if os.path.isdir(local_checkpoint_dir) is False:\n",
    "            os.mkdir(local_checkpoint_dir)\n",
    "        if os.path.isdir(local_finalsave_dir) is False: \n",
    "            os.mkdir(local_finalsave_dir)\n",
    "\n",
    "        #write summary to file \n",
    "        infoFile = os.path.join(local_container_dir, \"into.txt\")\n",
    "        with open(infoFile, 'w') as file: \n",
    "            file.write(f\"Number of convolution layers: {numConvLayers} \\r\")\n",
    "            file.write(f\"Number of nodes per convolution layer: {convNodes} \\r\")\n",
    "            file.write(f\"Input size expected: {IMAGE_WIDTH}, {IMAGE_HEIGHT}\\r\")\n",
    "            file.write(f\"Epochs: {NUM_EPOCHS}\\r\")\n",
    "            file.write(f\"Max ammount of rotation: {}\")\n",
    "            file.close()\n",
    "\n",
    "        #cleanup from last round \n",
    "        tf.keras.backend.clear_session()\n",
    "\n",
    "        #define the model \n",
    "        model = tf.keras.models.Sequential()\n",
    "        for i in range(numConvLayers):\n",
    "            model.add(tf.keras.layers.Conv2D(int(convNodes), (3,3)))\n",
    "            model.add(tf.keras.layers.BatchNormalization())\n",
    "            model.add(tf.keras.layers.Activation('relu'))\n",
    "            model.add(tf.keras.layers.MaxPool2D((2,2)))\n",
    "\n",
    "        #flatten out \n",
    "        model.add(tf.keras.layers.Flatten())\n",
    "        model.add(tf.keras.layers.Dense(512, activation='relu'))\n",
    "        model.add(tf.keras.layers.Dense(len(classNames), activation='softmax'))\n",
    "        \n",
    "        model.compile(loss=tf.keras.losses.SparseCategoricalCrossentropy(),\n",
    "                optimizer=RMSprop(learning_rate=1e-4),\n",
    "                metrics=['accuracy'])\n",
    "        \n",
    "        #create callbacks as necessary\n",
    "        checkpoint_callback = tf.keras.callbacks.ModelCheckpoint(filepath=local_checkpoint_dir, \n",
    "                                                                save_weights_only=True, \n",
    "                                                                verbose=1)\n",
    "        tensorboard_callback = tf.keras.callbacks.TensorBoard(log_dir=local_tensorlogs_dir,                        \n",
    "                                                            histogram_freq=1, \n",
    "                                                            write_graph=True, \n",
    "                                                            write_images=False, \n",
    "                                                            embeddings_freq=1, \n",
    "                                                            profile_batch='1,5')\n",
    "            \n",
    "        time_stopping_callback = None\n",
    "        history = None\n",
    "        \n",
    "        if (trainTimeLimit != 0):\n",
    "            #shorten the time limit to allow for post training data processing\n",
    "            trainTimeLimit = trainTimeLimit - (60*5) \n",
    "            time_stopping_callback = tfa.callbacks.TimeStopping(seconds=TrainTimeLimit, verbose=1)\n",
    "            history = model.fit(trainDS, \n",
    "                                epochs=1, \n",
    "                                validation_data=valDS,\n",
    "                                callbacks=[tensorboard_callback, checkpoint_callback, time_stopping_callback])\n",
    "        else:\n",
    "            #no time limit callback\n",
    "            history = model.fit(trainDS, \n",
    "                        epochs=NUM_EPOCHS, \n",
    "                        validation_data=valDS,\n",
    "                        callbacks=[tensorboard_callback, checkpoint_callback])\n",
    "\n",
    "        #save model and record completion in info file\n",
    "        model.save(local_finalsave_dir)\n",
    "        with open(infoFile, 'a') as file: \n",
    "            file.write('Training Complete')\n",
    "            file.close()"
   ]
  },
  {
   "cell_type": "markdown",
   "id": "ccbc3151-66a9-471e-a20b-fc43140aaf4c",
   "metadata": {},
   "source": [
    "#### Zip Logs For Download"
   ]
  },
  {
   "cell_type": "code",
   "execution_count": null,
   "id": "46b3ed66-9fdc-4e4e-a535-7d552dc015d2",
   "metadata": {},
   "outputs": [
    {
     "data": {
      "text/plain": [
       "'/workspaces/Tensorflow/Class/AdvancedAI/PokemonIdentifier/Src/Logs.zip'"
      ]
     },
     "execution_count": 2,
     "metadata": {},
     "output_type": "execute_result"
    }
   ],
   "source": [
    "shutil.make_archive('Logs', 'zip', '../Logs')"
   ]
  }
 ],
 "metadata": {
  "interpreter": {
   "hash": "31f2aee4e71d21fbe5cf8b01ff0e069b9275f58929596ceb00d14d90e3e16cd6"
  },
  "kernelspec": {
   "display_name": "Python 3.8 (XPython)",
   "language": "python",
   "name": "python3"
  },
  "language_info": {
   "codemirror_mode": {
    "name": "ipython",
    "version": 3
   },
   "file_extension": ".py",
   "mimetype": "text/x-python",
   "name": "python",
   "nbconvert_exporter": "python",
   "pygments_lexer": "ipython3",
   "version": "3.8.10"
  }
 },
 "nbformat": 4,
 "nbformat_minor": 5
}
